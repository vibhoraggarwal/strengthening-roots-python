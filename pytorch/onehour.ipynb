{
 "cells": [
  {
   "cell_type": "markdown",
   "id": "c460cdc4",
   "metadata": {},
   "source": [
    "# PyTorch Tensor Basics\n",
    "This notebook demonstrates basic tensor creation and operations using PyTorch."
   ]
  },
  {
   "cell_type": "code",
   "execution_count": 44,
   "id": "f93857cc",
   "metadata": {},
   "outputs": [],
   "source": [
    "import torch"
   ]
  },
  {
   "cell_type": "markdown",
   "id": "44f7a172",
   "metadata": {},
   "source": [
    "## Tensor Operations- Understanding tensors"
   ]
  },
  {
   "cell_type": "code",
   "execution_count": 45,
   "id": "7468793c",
   "metadata": {},
   "outputs": [],
   "source": [
    "tensor0d = torch.tensor(1.0)\n",
    "tensor1d = torch.tensor([1, 2, 3])\n",
    "# create a 2D tensor from a nested Python list\n",
    "tensor2d = torch.tensor([[1, 2, 3],\n",
    "                         [4, 5, 6]])\n",
    "# create a 3D tensor from a nested Python list\n",
    "tensor3d = torch.tensor([[[1, 2], [3, 4]], [[5, 6], [7, 8]]])"
   ]
  },
  {
   "cell_type": "code",
   "execution_count": 46,
   "id": "8b13d081",
   "metadata": {},
   "outputs": [
    {
     "name": "stdout",
     "output_type": "stream",
     "text": [
      "tensor([[1, 2, 3],\n",
      "        [4, 5, 6]])\n",
      "torch.int64\n",
      "torch.Size([2, 3])\n",
      "tensor([[1, 2],\n",
      "        [3, 4],\n",
      "        [5, 6]])\n",
      "tensor([[1, 4],\n",
      "        [2, 5],\n",
      "        [3, 6]])\n",
      "tensor([[14, 32],\n",
      "        [32, 77]])\n",
      "tensor([[14, 32],\n",
      "        [32, 77]])\n"
     ]
    }
   ],
   "source": [
    "print(tensor2d)\n",
    "print(tensor1d.dtype)\n",
    "print(tensor2d.shape)\n",
    "print(tensor2d.reshape(3, 2))\n",
    "print(tensor2d.T)\n",
    "print(tensor2d.matmul(tensor2d.T))\n",
    "print(tensor2d @ tensor2d.T)"
   ]
  },
  {
   "cell_type": "markdown",
   "id": "c8dd5d60",
   "metadata": {},
   "source": [
    "## Computation graphs\n",
    "A computation graph is a directed graph that allows us to express and visualize mathematical operations."
   ]
  },
  {
   "cell_type": "code",
   "execution_count": 47,
   "id": "06a65baa",
   "metadata": {},
   "outputs": [
    {
     "name": "stdout",
     "output_type": "stream",
     "text": [
      "tensor(0.0852)\n"
     ]
    }
   ],
   "source": [
    "import torch.nn.functional as F\n",
    "\n",
    "y = torch.tensor([1.0])  # true label\n",
    "x1 = torch.tensor([1.1]) # input feature\n",
    "w1 = torch.tensor([2.2]) # weight parameter\n",
    "b = torch.tensor([0.0])  # bias unit\n",
    "z = x1 * w1 + b          # net input\n",
    "a = torch.sigmoid(z)     # activation & output\n",
    "loss = F.binary_cross_entropy(a, y)  # compute loss\n",
    "print(loss)"
   ]
  },
  {
   "cell_type": "markdown",
   "id": "a860817c",
   "metadata": {},
   "source": [
    "## Automatic differentiation made easy\n",
    "\n",
    "By tracking every operation performed on tensors, PyTorch’s autograd engine constructs a computational graph in the background. Then, calling the grad function, we can compute the gradient of the loss with respect to model parameter w1 as follows:"
   ]
  },
  {
   "cell_type": "code",
   "execution_count": 48,
   "id": "5c17497d",
   "metadata": {},
   "outputs": [
    {
     "name": "stdout",
     "output_type": "stream",
     "text": [
      "(tensor([-0.0898]),)\n",
      "(tensor([-0.0817]),)\n"
     ]
    }
   ],
   "source": [
    "import torch.nn.functional as F\n",
    "from torch.autograd import grad\n",
    "\n",
    "y = torch.tensor([1.0])\n",
    "x1 = torch.tensor([1.1])\n",
    "w1 = torch.tensor([2.2], requires_grad=True)\n",
    "b = torch.tensor([0.0], requires_grad=True)\n",
    "\n",
    "z = x1 * w1 + b\n",
    "a = torch.sigmoid(z)\n",
    "\n",
    "loss = F.binary_cross_entropy(a, y)\n",
    "\n",
    "grad_L_w1 = grad(loss, w1, retain_graph=True)\n",
    "grad_L_b = grad(loss, b, retain_graph=True)\n",
    "print(grad_L_w1)\n",
    "print(grad_L_b)"
   ]
  },
  {
   "cell_type": "markdown",
   "id": "85a2f511",
   "metadata": {},
   "source": [
    "### Automatically storing the gradient of all the leaf nodes"
   ]
  },
  {
   "cell_type": "code",
   "execution_count": 49,
   "id": "e9bb4fec",
   "metadata": {},
   "outputs": [
    {
     "name": "stdout",
     "output_type": "stream",
     "text": [
      "tensor([-0.0898])\n",
      "tensor([-0.0817])\n"
     ]
    }
   ],
   "source": [
    "loss.backward()\n",
    "\n",
    "print(w1.grad)\n",
    "print(b.grad)"
   ]
  },
  {
   "cell_type": "markdown",
   "id": "3130bbb4",
   "metadata": {},
   "source": [
    "# Implementing multi layer neural networks\n"
   ]
  },
  {
   "cell_type": "code",
   "execution_count": 52,
   "id": "293327fc",
   "metadata": {},
   "outputs": [
    {
     "name": "stdout",
     "output_type": "stream",
     "text": [
      "NeuralNetwork(\n",
      "  (layers): Sequential(\n",
      "    (0): Linear(in_features=50, out_features=30, bias=True)\n",
      "    (1): ReLU()\n",
      "    (2): Linear(in_features=30, out_features=20, bias=True)\n",
      "    (3): ReLU()\n",
      "    (4): Linear(in_features=20, out_features=3, bias=True)\n",
      "  )\n",
      ")\n",
      "Total number of trainable model parameters: 2213\n",
      "Parameter containing:\n",
      "tensor([[ 0.1111, -0.1394, -0.0535,  ...,  0.0168, -0.0310,  0.0212],\n",
      "        [-0.1181, -0.1100, -0.0147,  ...,  0.0097, -0.0307,  0.1348],\n",
      "        [ 0.0422, -0.0288, -0.0292,  ...,  0.1062, -0.0263,  0.0925],\n",
      "        ...,\n",
      "        [ 0.1049, -0.0061,  0.1247,  ...,  0.0097, -0.0399,  0.0880],\n",
      "        [-0.1123, -0.0133, -0.0422,  ..., -0.0186,  0.1366,  0.1368],\n",
      "        [-0.0490, -0.0387, -0.0452,  ...,  0.1263, -0.0174,  0.0117]],\n",
      "       requires_grad=True)\n",
      "torch.Size([30, 50])\n"
     ]
    }
   ],
   "source": [
    "class NeuralNetwork(torch.nn.Module):\n",
    "    def __init__(self, num_inputs, num_outputs):\n",
    "        super().__init__()\n",
    "\n",
    "        self.layers = torch.nn.Sequential(\n",
    "\n",
    "            # 1st hidden layer\n",
    "            torch.nn.Linear(num_inputs, 30),\n",
    "            torch.nn.ReLU(),\n",
    "\n",
    "            # 2nd hidden layer\n",
    "            torch.nn.Linear(30, 20),\n",
    "            torch.nn.ReLU(),\n",
    "\n",
    "            # output layer\n",
    "            torch.nn.Linear(20, num_outputs),\n",
    "        )\n",
    "\n",
    "    def forward(self, x):\n",
    "        logits = self.layers(x)\n",
    "        return logits\n",
    "\n",
    "model = NeuralNetwork(50, 3)\n",
    "print(model)\n",
    "num_params = sum(\n",
    "    p.numel() for p in model.parameters() if p.requires_grad\n",
    ")\n",
    "print(\"Total number of trainable model parameters:\", num_params)\n",
    "print(model.layers[0].weight)\n",
    "# dimension of a layer\n",
    "print(model.layers[0].weight.shape)"
   ]
  },
  {
   "cell_type": "markdown",
   "id": "f3117776",
   "metadata": {},
   "source": [
    "## Seeding random number generator"
   ]
  },
  {
   "cell_type": "code",
   "execution_count": null,
   "id": "4f853955",
   "metadata": {},
   "outputs": [],
   "source": [
    "torch.manual_seed(123)\n",
    "\n",
    "model = NeuralNetwork(50, 3)\n",
    "print(model.layers[0].weight)"
   ]
  }
 ],
 "metadata": {
  "kernelspec": {
   "display_name": "3.12.8",
   "language": "python",
   "name": "python3"
  },
  "language_info": {
   "codemirror_mode": {
    "name": "ipython",
    "version": 3
   },
   "file_extension": ".py",
   "mimetype": "text/x-python",
   "name": "python",
   "nbconvert_exporter": "python",
   "pygments_lexer": "ipython3",
   "version": "3.12.8"
  }
 },
 "nbformat": 4,
 "nbformat_minor": 5
}
